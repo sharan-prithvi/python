{
 "cells": [
  {
   "cell_type": "markdown",
   "metadata": {},
   "source": [
    "Control Statements:-\n",
    "    if this then do this - conditional control statements"
   ]
  },
  {
   "cell_type": "markdown",
   "metadata": {},
   "source": [
    "if amount is greater than 5000 then give 10 percent discount\n",
    "thanks for shopping"
   ]
  },
  {
   "cell_type": "code",
   "execution_count": 2,
   "metadata": {},
   "outputs": [
    {
     "name": "stdout",
     "output_type": "stream",
     "text": [
      "thanks for shopping\n"
     ]
    }
   ],
   "source": [
    "amount = int(input())\n",
    "\n",
    "if amount > 5000:\n",
    "    print('you get 10 percent discount')\n",
    "print('thanks for shopping')"
   ]
  },
  {
   "cell_type": "markdown",
   "metadata": {},
   "source": [
    "if amount is greater than 5000 then give 10 percent discount\n",
    "if amount is greater than 2000 then give 5 percent discount\n",
    "if amount is less than 2000 then give no discount\n",
    "thanks for shopping"
   ]
  },
  {
   "cell_type": "code",
   "execution_count": 5,
   "metadata": {},
   "outputs": [
    {
     "name": "stdout",
     "output_type": "stream",
     "text": [
      "sorry you get no discount!\n",
      "thanks for shopping\n"
     ]
    }
   ],
   "source": [
    "amount = int(input())\n",
    "\n",
    "if amount > 5000:\n",
    "    print('you get 10 percent discount')\n",
    "elif amount >2000:\n",
    "    print('you get 5 percent discount')\n",
    "else:\n",
    "    print('sorry you get no discount!')\n",
    "print('thanks for shopping')"
   ]
  },
  {
   "cell_type": "markdown",
   "metadata": {},
   "source": [
    "Nested if "
   ]
  },
  {
   "cell_type": "code",
   "execution_count": 9,
   "metadata": {},
   "outputs": [
    {
     "name": "stdout",
     "output_type": "stream",
     "text": [
      "Not divisible by 2 or 3\n"
     ]
    }
   ],
   "source": [
    "num = int(input())\n",
    "if num % 2 == 0:\n",
    "    if num % 3 == 0:\n",
    "        print('Divisible by 2 and 3 both')\n",
    "    else:\n",
    "        print('Divisible by 2 but not by 3')\n",
    "else:\n",
    "    if num % 3 == 0:\n",
    "        print('Divisible by 3 but not by 2')\n",
    "    else:\n",
    "        print('Not divisible by 2 or 3')"
   ]
  },
  {
   "cell_type": "code",
   "execution_count": null,
   "metadata": {},
   "outputs": [],
   "source": []
  }
 ],
 "metadata": {
  "kernelspec": {
   "display_name": "Python 3",
   "language": "python",
   "name": "python3"
  },
  "language_info": {
   "codemirror_mode": {
    "name": "ipython",
    "version": 3
   },
   "file_extension": ".py",
   "mimetype": "text/x-python",
   "name": "python",
   "nbconvert_exporter": "python",
   "pygments_lexer": "ipython3",
   "version": "3.11.0"
  }
 },
 "nbformat": 4,
 "nbformat_minor": 2
}
