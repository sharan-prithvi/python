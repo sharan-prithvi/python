{
 "cells": [
  {
   "cell_type": "code",
   "execution_count": 2,
   "metadata": {},
   "outputs": [
    {
     "name": "stdout",
     "output_type": "stream",
     "text": [
      "prithvi\n"
     ]
    }
   ],
   "source": [
    "# Python code to take name from user and display  (inline comment-single line comment)\n",
    "name= input()\n",
    "print(name)"
   ]
  },
  {
   "cell_type": "code",
   "execution_count": 1,
   "metadata": {},
   "outputs": [
    {
     "name": "stdout",
     "output_type": "stream",
     "text": [
      "prithvi\n"
     ]
    }
   ],
   "source": [
    "\"\"\" Python code to take name from user and display  \n",
    "(block comment-\n",
    "                multi line comment)\n",
    "Python code to take name from user and display  \n",
    "(block comment-\n",
    "                multi line comment)\n",
    "Python code to take name from user and display  \n",
    "(block comment-\n",
    "                multi line comment)\n",
    "Python code to take name from user and display  \n",
    "(block comment-\n",
    "                multi line comment) \"\"\"\n",
    "name= input()\n",
    "print(name)"
   ]
  },
  {
   "cell_type": "code",
   "execution_count": 6,
   "metadata": {},
   "outputs": [
    {
     "name": "stdout",
     "output_type": "stream",
     "text": [
      "My name is \"Prithvi\"\n"
     ]
    }
   ],
   "source": [
    "print(\"My name is \\\"Prithvi\\\"\")"
   ]
  },
  {
   "cell_type": "code",
   "execution_count": 7,
   "metadata": {},
   "outputs": [
    {
     "name": "stdout",
     "output_type": "stream",
     "text": [
      "My name is \\Prithvi\n"
     ]
    }
   ],
   "source": [
    "print(\"My name is \\Prithvi\")"
   ]
  },
  {
   "cell_type": "code",
   "execution_count": null,
   "metadata": {},
   "outputs": [],
   "source": [
    "print(\"My name is \\n Prithvi\")"
   ]
  },
  {
   "cell_type": "code",
   "execution_count": 13,
   "metadata": {},
   "outputs": [
    {
     "name": "stdout",
     "output_type": "stream",
     "text": [
      "My name is \t Prithvi\n"
     ]
    }
   ],
   "source": [
    "print(\"My name is \\t Prithvi\")"
   ]
  },
  {
   "cell_type": "code",
   "execution_count": null,
   "metadata": {},
   "outputs": [],
   "source": []
  }
 ],
 "metadata": {
  "kernelspec": {
   "display_name": "Python 3",
   "language": "python",
   "name": "python3"
  },
  "language_info": {
   "codemirror_mode": {
    "name": "ipython",
    "version": 3
   },
   "file_extension": ".py",
   "mimetype": "text/x-python",
   "name": "python",
   "nbconvert_exporter": "python",
   "pygments_lexer": "ipython3",
   "version": "3.11.0"
  }
 },
 "nbformat": 4,
 "nbformat_minor": 2
}
